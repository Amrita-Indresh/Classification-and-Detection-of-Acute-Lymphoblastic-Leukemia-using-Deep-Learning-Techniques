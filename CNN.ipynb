{
 "cells": [
  {
   "cell_type": "code",
   "execution_count": 1,
   "id": "0cb3b8c4",
   "metadata": {},
   "outputs": [],
   "source": [
    "from keras.models import Sequential\n",
    "from keras.layers import Conv2D\n",
    "from keras.layers import Flatten\n",
    "from keras. layers import MaxPooling2D\n",
    "from keras.layers import Dense\n",
    "import numpy as np"
   ]
  },
  {
   "cell_type": "code",
   "execution_count": 2,
   "id": "afa72d60",
   "metadata": {},
   "outputs": [],
   "source": [
    "model=Sequential()\n",
    "conv1=model.add(Conv2D(32,(3,3),input_shape=(64,64,3),activation='relu'))\n",
    "model.add(MaxPooling2D(pool_size=(2,2)))\n",
    "model.add(Flatten())\n",
    "model.add(Dense(units=128,activation='relu'))\n",
    "model.add(Dense(units=128,activation='relu'))\n",
    "model.add(Dense(units=128,activation='relu'))\n",
    "model.add(Dense(units=128,activation='relu'))\n",
    "model.add(Dense(units=1,activation='sigmoid'))"
   ]
  },
  {
   "cell_type": "code",
   "execution_count": 3,
   "id": "c6dddd2e",
   "metadata": {},
   "outputs": [],
   "source": [
    "from keras.preprocessing.image import ImageDataGenerator\n",
    "model.compile(optimizer='adadelta',loss='binary_crossentropy',metrics=['accuracy'])"
   ]
  },
  {
   "cell_type": "code",
   "execution_count": 4,
   "id": "31e1f6bf",
   "metadata": {},
   "outputs": [],
   "source": [
    "train_datagen = ImageDataGenerator(rescale = 1./255,shear_range = 0.2,zoom_range = 0.4,horizontal_flip = True)\n",
    "test_datagen = ImageDataGenerator(rescale = 1./255)\n"
   ]
  },
  {
   "cell_type": "code",
   "execution_count": 5,
   "id": "d3e65e10",
   "metadata": {},
   "outputs": [
    {
     "name": "stdout",
     "output_type": "stream",
     "text": [
      "Found 3527 images belonging to 2 classes.\n",
      "Found 2586 images belonging to 1 classes.\n"
     ]
    }
   ],
   "source": [
    "training_set =train_datagen.flow_from_directory('C:/Users/lenovo/Desktop/Desktop 01/final year project/C-NMC_Leukemia/training_data/fold_0',target_size = (64, 64),batch_size = 8,class_mode = 'binary')\n",
    "test_set = test_datagen.flow_from_directory('C:/Users/lenovo/Desktop/Desktop 01/final year project/C-NMC_Leukemia/testing_data',target_size = (64, 64),batch_size = 8,class_mode = 'binary')"
   ]
  },
  {
   "cell_type": "code",
   "execution_count": 6,
   "id": "61118a23",
   "metadata": {},
   "outputs": [
    {
     "data": {
      "text/plain": [
       "keras.preprocessing.image.DirectoryIterator"
      ]
     },
     "execution_count": 6,
     "metadata": {},
     "output_type": "execute_result"
    }
   ],
   "source": [
    "type(training_set)"
   ]
  },
  {
   "cell_type": "code",
   "execution_count": 7,
   "id": "bab5fa16",
   "metadata": {},
   "outputs": [
    {
     "name": "stdout",
     "output_type": "stream",
     "text": [
      "Epoch 1/3\n",
      "441/441 [==============================] - 260s 564ms/step - loss: 0.6867 - accuracy: 0.6527 - val_loss: 0.6693 - val_accuracy: 1.0000\n",
      "Epoch 2/3\n",
      "441/441 [==============================] - 232s 526ms/step - loss: 0.6704 - accuracy: 0.6796 - val_loss: 0.6361 - val_accuracy: 1.0000\n",
      "Epoch 3/3\n",
      "441/441 [==============================] - 282s 640ms/step - loss: 0.6501 - accuracy: 0.6796 - val_loss: 0.5941 - val_accuracy: 1.0000\n"
     ]
    },
    {
     "data": {
      "text/plain": [
       "<keras.callbacks.History at 0x232256a9460>"
      ]
     },
     "execution_count": 7,
     "metadata": {},
     "output_type": "execute_result"
    }
   ],
   "source": [
    "model.fit(training_set,epochs = 3,validation_data = test_set,validation_steps = 5)"
   ]
  },
  {
   "cell_type": "code",
   "execution_count": null,
   "id": "8e1b30c3",
   "metadata": {},
   "outputs": [],
   "source": []
  },
  {
   "cell_type": "code",
   "execution_count": null,
   "id": "00853439",
   "metadata": {},
   "outputs": [],
   "source": []
  }
 ],
 "metadata": {
  "kernelspec": {
   "display_name": "Python 3 (ipykernel)",
   "language": "python",
   "name": "python3"
  },
  "language_info": {
   "codemirror_mode": {
    "name": "ipython",
    "version": 3
   },
   "file_extension": ".py",
   "mimetype": "text/x-python",
   "name": "python",
   "nbconvert_exporter": "python",
   "pygments_lexer": "ipython3",
   "version": "3.9.12"
  }
 },
 "nbformat": 4,
 "nbformat_minor": 5
}
