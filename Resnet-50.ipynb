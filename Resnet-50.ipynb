{
 "cells": [
  {
   "cell_type": "code",
   "execution_count": null,
   "id": "de1602a7",
   "metadata": {},
   "outputs": [],
   "source": [
    "import matplotlib.pyplot as plt\n",
    "import numpy as np\n",
    "import PIL\n",
    "import tensorflow as tf\n",
    "from keras.layers import Dense\n",
    "from keras.layers import Flatten\n",
    "from tensorflow.keras.models import Sequential\n",
    "from tensorflow.keras.optimizers import Adam\n",
    "from keras.layers import Conv2D\n",
    "from keras. layers import MaxPooling2D"
   ]
  },
  {
   "cell_type": "code",
   "execution_count": null,
   "id": "43317a03",
   "metadata": {},
   "outputs": [],
   "source": [
    "resnet_model = Sequential()\n",
    "\n",
    "pretrained_model= tf.keras.applications.ResNet50(include_top=False,\n",
    "                   input_shape=(180,180,3),\n",
    "                   pooling='max',classes=2)\n",
    "for layer in pretrained_model.layers:\n",
    "        layer.trainable=False\n",
    "\n",
    "resnet_model.add(pretrained_model)"
   ]
  },
  {
   "cell_type": "code",
   "execution_count": null,
   "id": "5a8d8d33",
   "metadata": {},
   "outputs": [],
   "source": [
    "resnet_model.add(Flatten())\n",
    "resnet_model.add(Dense(512, activation='relu'))\n",
    "resnet_model.add(Dense(5, activation='softmax'))"
   ]
  },
  {
   "cell_type": "code",
   "execution_count": null,
   "id": "e16ed6a1",
   "metadata": {},
   "outputs": [],
   "source": [
    "from keras.preprocessing.image import ImageDataGenerator\n",
    "resnet_model.compile(optimizer='adam',loss='binary_crossentropy',metrics=['accuracy'])"
   ]
  },
  {
   "cell_type": "code",
   "execution_count": null,
   "id": "8fc91db8",
   "metadata": {},
   "outputs": [],
   "source": [
    "train_datagen = ImageDataGenerator(rescale = 1./255,shear_range = 0.2,zoom_range = 0.4,horizontal_flip = True)\n",
    "test_datagen = ImageDataGenerator(rescale = 1./255)\n",
    "validation_datagen = ImageDataGenerator(rescale = 1./255)"
   ]
  },
  {
   "cell_type": "code",
   "execution_count": null,
   "id": "36955ac2",
   "metadata": {},
   "outputs": [],
   "source": [
    "training_set =train_datagen.flow_from_directory('C:/Users/lenovo/Desktop/final year project/C-NMC_Leukemia/training_data/fold_0',target_size = (64, 64),batch_size = 8,class_mode = 'binary')\n",
    "test_set = test_datagen.flow_from_directory('C:/Users/lenovo/Desktop/final year project/C-NMC_Leukemia/training_data/fold_1',target_size = (64, 64),batch_size = 8,class_mode = 'binary')\n",
    "val_set = validation_datagen.flow_from_directory('C:/Users/lenovo/Desktop/final year project/C-NMC_Leukemia/training_data/fold_1',target_size = (64, 64),batch_size = 8,class_mode = 'binary')"
   ]
  },
  {
   "cell_type": "code",
   "execution_count": null,
   "id": "abec1967",
   "metadata": {},
   "outputs": [],
   "source": [
    "resnt_model=Sequential()\n",
    "conv1=resnt_model.add(Conv2D(32,(3,3),input_shape=(64,64,3),activation='relu'))\n",
    "resnt_model.add(MaxPooling2D(pool_size=(2,2)))\n",
    "resnt_model.add(Flatten())\n",
    "resnt_model.add(Dense(units=128,activation='relu'))\n",
    "resnt_model.add(Dense(units=128,activation='relu'))\n",
    "resnt_model.add(Dense(units=1,activation='sigmoid'))"
   ]
  },
  {
   "cell_type": "code",
   "execution_count": null,
   "id": "f7958c53",
   "metadata": {},
   "outputs": [],
   "source": [
    "resnet_model.summary()"
   ]
  },
  {
   "cell_type": "code",
   "execution_count": null,
   "id": "f75d92af",
   "metadata": {},
   "outputs": [],
   "source": [
    "resnt_model.compile(optimizer='adadelta',loss='binary_crossentropy',metrics=['accuracy'])"
   ]
  },
  {
   "cell_type": "code",
   "execution_count": null,
   "id": "9f0b4b1a",
   "metadata": {},
   "outputs": [],
   "source": [
    "resnt_model.fit(training_set,epochs = 3,validation_data = test_set,validation_steps = 2)"
   ]
  },
  {
   "cell_type": "code",
   "execution_count": null,
   "id": "ea69dfb9",
   "metadata": {},
   "outputs": [],
   "source": []
  }
 ],
 "metadata": {
  "kernelspec": {
   "display_name": "Python 3 (ipykernel)",
   "language": "python",
   "name": "python3"
  },
  "language_info": {
   "codemirror_mode": {
    "name": "ipython",
    "version": 3
   },
   "file_extension": ".py",
   "mimetype": "text/x-python",
   "name": "python",
   "nbconvert_exporter": "python",
   "pygments_lexer": "ipython3",
   "version": "3.9.12"
  }
 },
 "nbformat": 4,
 "nbformat_minor": 5
}
